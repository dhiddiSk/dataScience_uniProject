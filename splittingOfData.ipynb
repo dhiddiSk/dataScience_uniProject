{
 "cells": [
  {
   "cell_type": "code",
   "execution_count": 86,
   "metadata": {},
   "outputs": [],
   "source": [
    "#here import the required packages"
   ]
  },
  {
   "cell_type": "code",
   "execution_count": 1,
   "metadata": {},
   "outputs": [],
   "source": [
    "import pandas as pd\n",
    "import numpy as np\n",
    "import matplotlib.pyplot as plt\n",
    "import seaborn as sns\n",
    "import csv\n",
    "import sklearn.model_selection as model_selection\n",
    "import random \n",
    "from random import shuffle\n",
    "from sklearn.model_selection import StratifiedKFold\n",
    "from sklearn.ensemble import RandomForestRegressor"
   ]
  },
  {
   "cell_type": "code",
   "execution_count": 2,
   "metadata": {},
   "outputs": [],
   "source": [
    "#Here data csv data file is read, df is parent data frame"
   ]
  },
  {
   "cell_type": "code",
   "execution_count": 3,
   "metadata": {},
   "outputs": [],
   "source": [
    "df = pd.read_csv(\"/home/saikrishna/Practical/dataScience/Data-science-Project/cow-data/SCR_Aktivität und Wiederkäuen Juli 2018 bis Januar 2019.csv\")"
   ]
  },
  {
   "cell_type": "code",
   "execution_count": 4,
   "metadata": {},
   "outputs": [
    {
     "data": {
      "text/plain": [
       "Kuhnummer                                               1038898\n",
       "Die Gruppe                                              1030911\n",
       "Termin                                                  1037652\n",
       "Die Buchnummer                                          1038898\n",
       "Reine Aktivitätsdaten                                    179617\n",
       "Zeit                                                    1037652\n",
       "Rohdaten Rumination                                      179587\n",
       "Gesamt-Wiederkäuen Minuten in den letzten 24 Stunden     179838\n",
       "Tägliches Wiederkäuen                                    179309\n",
       "dtype: int64"
      ]
     },
     "execution_count": 4,
     "metadata": {},
     "output_type": "execute_result"
    }
   ],
   "source": [
    "df.count()"
   ]
  },
  {
   "cell_type": "code",
   "execution_count": 5,
   "metadata": {},
   "outputs": [],
   "source": [
    "#To know which colums are presnsent in the csv file"
   ]
  },
  {
   "cell_type": "code",
   "execution_count": 6,
   "metadata": {},
   "outputs": [
    {
     "data": {
      "text/plain": [
       "Index(['Kuhnummer', 'Die Gruppe', 'Termin', 'Die Buchnummer',\n",
       "       'Reine Aktivitätsdaten', 'Zeit', 'Rohdaten Rumination',\n",
       "       'Gesamt-Wiederkäuen Minuten in den letzten 24 Stunden',\n",
       "       'Tägliches Wiederkäuen'],\n",
       "      dtype='object')"
      ]
     },
     "execution_count": 6,
     "metadata": {},
     "output_type": "execute_result"
    }
   ],
   "source": [
    "df.columns"
   ]
  },
  {
   "cell_type": "code",
   "execution_count": 7,
   "metadata": {},
   "outputs": [],
   "source": [
    "#To know which data is missing by setting the axis=1"
   ]
  },
  {
   "cell_type": "code",
   "execution_count": 8,
   "metadata": {},
   "outputs": [
    {
     "data": {
      "text/plain": [
       "0          False\n",
       "1          False\n",
       "2          False\n",
       "3          False\n",
       "4          False\n",
       "5          False\n",
       "6          False\n",
       "7          False\n",
       "8          False\n",
       "9          False\n",
       "10         False\n",
       "11         False\n",
       "12         False\n",
       "13         False\n",
       "14         False\n",
       "15         False\n",
       "16         False\n",
       "17         False\n",
       "18         False\n",
       "19         False\n",
       "20         False\n",
       "21         False\n",
       "22         False\n",
       "23         False\n",
       "24         False\n",
       "25         False\n",
       "26         False\n",
       "27         False\n",
       "28         False\n",
       "29         False\n",
       "           ...  \n",
       "1038884     True\n",
       "1038885     True\n",
       "1038886     True\n",
       "1038887     True\n",
       "1038888     True\n",
       "1038889     True\n",
       "1038890     True\n",
       "1038891     True\n",
       "1038892     True\n",
       "1038893     True\n",
       "1038894     True\n",
       "1038895     True\n",
       "1038896     True\n",
       "1038897     True\n",
       "1038898     True\n",
       "1038899     True\n",
       "1038900     True\n",
       "1038901     True\n",
       "1038902     True\n",
       "1038903     True\n",
       "1038904     True\n",
       "1038905     True\n",
       "1038906     True\n",
       "1038907     True\n",
       "1038908     True\n",
       "1038909     True\n",
       "1038910     True\n",
       "1038911     True\n",
       "1038912     True\n",
       "1038913     True\n",
       "Length: 1038914, dtype: bool"
      ]
     },
     "execution_count": 8,
     "metadata": {},
     "output_type": "execute_result"
    }
   ],
   "source": [
    "df.isnull().any(axis=1)"
   ]
  },
  {
   "cell_type": "code",
   "execution_count": 9,
   "metadata": {},
   "outputs": [
    {
     "data": {
      "text/plain": [
       "Kuhnummer                                               1038898\n",
       "Die Gruppe                                              1030911\n",
       "Termin                                                  1037652\n",
       "Die Buchnummer                                          1038898\n",
       "Reine Aktivitätsdaten                                    179617\n",
       "Zeit                                                    1037652\n",
       "Rohdaten Rumination                                      179587\n",
       "Gesamt-Wiederkäuen Minuten in den letzten 24 Stunden     179838\n",
       "Tägliches Wiederkäuen                                    179309\n",
       "dtype: int64"
      ]
     },
     "execution_count": 9,
     "metadata": {},
     "output_type": "execute_result"
    }
   ],
   "source": [
    "df.count()"
   ]
  },
  {
   "cell_type": "code",
   "execution_count": 10,
   "metadata": {
    "scrolled": true
   },
   "outputs": [
    {
     "data": {
      "text/plain": [
       "Kuhnummer                                                   16\n",
       "Die Gruppe                                                8003\n",
       "Termin                                                    1262\n",
       "Die Buchnummer                                              16\n",
       "Reine Aktivitätsdaten                                   859297\n",
       "Zeit                                                      1262\n",
       "Rohdaten Rumination                                     859327\n",
       "Gesamt-Wiederkäuen Minuten in den letzten 24 Stunden    859076\n",
       "Tägliches Wiederkäuen                                   859605\n",
       "dtype: int64"
      ]
     },
     "execution_count": 10,
     "metadata": {},
     "output_type": "execute_result"
    }
   ],
   "source": [
    "df.isnull().sum()"
   ]
  },
  {
   "cell_type": "code",
   "execution_count": 11,
   "metadata": {},
   "outputs": [],
   "source": [
    "#cowTermin = df.drop(columns = ['Termin'])\n",
    "cowWithRohnRumination = df[pd.isnull(df['Rohdaten Rumination']) == False]\n",
    "cowWithOutRohnRumination = df[pd.isnull(df['Rohdaten Rumination'])]"
   ]
  },
  {
   "cell_type": "code",
   "execution_count": 12,
   "metadata": {},
   "outputs": [
    {
     "data": {
      "text/html": [
       "<div>\n",
       "<style scoped>\n",
       "    .dataframe tbody tr th:only-of-type {\n",
       "        vertical-align: middle;\n",
       "    }\n",
       "\n",
       "    .dataframe tbody tr th {\n",
       "        vertical-align: top;\n",
       "    }\n",
       "\n",
       "    .dataframe thead th {\n",
       "        text-align: right;\n",
       "    }\n",
       "</style>\n",
       "<table border=\"1\" class=\"dataframe\">\n",
       "  <thead>\n",
       "    <tr style=\"text-align: right;\">\n",
       "      <th></th>\n",
       "      <th>Kuhnummer</th>\n",
       "      <th>Die Buchnummer</th>\n",
       "      <th>Reine Aktivitätsdaten</th>\n",
       "      <th>Rohdaten Rumination</th>\n",
       "      <th>Gesamt-Wiederkäuen Minuten in den letzten 24 Stunden</th>\n",
       "      <th>Tägliches Wiederkäuen</th>\n",
       "    </tr>\n",
       "  </thead>\n",
       "  <tbody>\n",
       "    <tr>\n",
       "      <th>count</th>\n",
       "      <td>179587.000000</td>\n",
       "      <td>179587.000000</td>\n",
       "      <td>179587.000000</td>\n",
       "      <td>179587.000000</td>\n",
       "      <td>179587.000000</td>\n",
       "      <td>178089.000000</td>\n",
       "    </tr>\n",
       "    <tr>\n",
       "      <th>mean</th>\n",
       "      <td>572.115949</td>\n",
       "      <td>572.115949</td>\n",
       "      <td>44.880409</td>\n",
       "      <td>44.470207</td>\n",
       "      <td>531.153508</td>\n",
       "      <td>535.756936</td>\n",
       "    </tr>\n",
       "    <tr>\n",
       "      <th>std</th>\n",
       "      <td>2526.901215</td>\n",
       "      <td>2526.901215</td>\n",
       "      <td>15.127079</td>\n",
       "      <td>21.514714</td>\n",
       "      <td>103.040703</td>\n",
       "      <td>90.101840</td>\n",
       "    </tr>\n",
       "    <tr>\n",
       "      <th>min</th>\n",
       "      <td>0.000000</td>\n",
       "      <td>0.000000</td>\n",
       "      <td>5.000000</td>\n",
       "      <td>0.000000</td>\n",
       "      <td>0.000000</td>\n",
       "      <td>15.000000</td>\n",
       "    </tr>\n",
       "    <tr>\n",
       "      <th>25%</th>\n",
       "      <td>65.000000</td>\n",
       "      <td>65.000000</td>\n",
       "      <td>34.000000</td>\n",
       "      <td>30.000000</td>\n",
       "      <td>500.000000</td>\n",
       "      <td>502.000000</td>\n",
       "    </tr>\n",
       "    <tr>\n",
       "      <th>50%</th>\n",
       "      <td>158.000000</td>\n",
       "      <td>158.000000</td>\n",
       "      <td>42.000000</td>\n",
       "      <td>45.000000</td>\n",
       "      <td>549.000000</td>\n",
       "      <td>550.000000</td>\n",
       "    </tr>\n",
       "    <tr>\n",
       "      <th>75%</th>\n",
       "      <td>869.000000</td>\n",
       "      <td>869.000000</td>\n",
       "      <td>53.000000</td>\n",
       "      <td>60.000000</td>\n",
       "      <td>591.000000</td>\n",
       "      <td>592.000000</td>\n",
       "    </tr>\n",
       "    <tr>\n",
       "      <th>max</th>\n",
       "      <td>41207.000000</td>\n",
       "      <td>41207.000000</td>\n",
       "      <td>168.000000</td>\n",
       "      <td>138.000000</td>\n",
       "      <td>869.000000</td>\n",
       "      <td>790.000000</td>\n",
       "    </tr>\n",
       "  </tbody>\n",
       "</table>\n",
       "</div>"
      ],
      "text/plain": [
       "           Kuhnummer  Die Buchnummer  Reine Aktivitätsdaten  \\\n",
       "count  179587.000000   179587.000000          179587.000000   \n",
       "mean      572.115949      572.115949              44.880409   \n",
       "std      2526.901215     2526.901215              15.127079   \n",
       "min         0.000000        0.000000               5.000000   \n",
       "25%        65.000000       65.000000              34.000000   \n",
       "50%       158.000000      158.000000              42.000000   \n",
       "75%       869.000000      869.000000              53.000000   \n",
       "max     41207.000000    41207.000000             168.000000   \n",
       "\n",
       "       Rohdaten Rumination  \\\n",
       "count        179587.000000   \n",
       "mean             44.470207   \n",
       "std              21.514714   \n",
       "min               0.000000   \n",
       "25%              30.000000   \n",
       "50%              45.000000   \n",
       "75%              60.000000   \n",
       "max             138.000000   \n",
       "\n",
       "       Gesamt-Wiederkäuen Minuten in den letzten 24 Stunden  \\\n",
       "count                                      179587.000000      \n",
       "mean                                          531.153508      \n",
       "std                                           103.040703      \n",
       "min                                             0.000000      \n",
       "25%                                           500.000000      \n",
       "50%                                           549.000000      \n",
       "75%                                           591.000000      \n",
       "max                                           869.000000      \n",
       "\n",
       "       Tägliches Wiederkäuen  \n",
       "count          178089.000000  \n",
       "mean              535.756936  \n",
       "std                90.101840  \n",
       "min                15.000000  \n",
       "25%               502.000000  \n",
       "50%               550.000000  \n",
       "75%               592.000000  \n",
       "max               790.000000  "
      ]
     },
     "execution_count": 12,
     "metadata": {},
     "output_type": "execute_result"
    }
   ],
   "source": [
    "cowWithRohnRumination.isnull().sum()\n",
    "cowWithRohnRumination.describe()"
   ]
  },
  {
   "cell_type": "code",
   "execution_count": 13,
   "metadata": {},
   "outputs": [],
   "source": [
    "cowWithRohnRumination=cowWithRohnRumination.dropna()"
   ]
  },
  {
   "cell_type": "code",
   "execution_count": 14,
   "metadata": {},
   "outputs": [],
   "source": [
    "variables = ['Reine Aktivitätsdaten','Tägliches Wiederkäuen']"
   ]
  },
  {
   "cell_type": "code",
   "execution_count": 15,
   "metadata": {
    "scrolled": true
   },
   "outputs": [
    {
     "name": "stderr",
     "output_type": "stream",
     "text": [
      "/home/saikrishna/anaconda3/lib/python3.7/site-packages/sklearn/ensemble/forest.py:246: FutureWarning: The default value of n_estimators will change from 10 in version 0.20 to 100 in 0.22.\n",
      "  \"10 in version 0.20 to 100 in 0.22.\", FutureWarning)\n"
     ]
    },
    {
     "data": {
      "text/plain": [
       "RandomForestRegressor(bootstrap=True, criterion='mse', max_depth=None,\n",
       "           max_features='auto', max_leaf_nodes=None,\n",
       "           min_impurity_decrease=0.0, min_impurity_split=None,\n",
       "           min_samples_leaf=1, min_samples_split=2,\n",
       "           min_weight_fraction_leaf=0.0, n_estimators=10, n_jobs=None,\n",
       "           oob_score=False, random_state=None, verbose=0, warm_start=False)"
      ]
     },
     "execution_count": 15,
     "metadata": {},
     "output_type": "execute_result"
    }
   ],
   "source": [
    "#cowWithRohnRumination = cowWithRohnRumination[variables]\n",
    "#cowWithOutRohnRumination = cowWithOutRohnRumination[variables]\n",
    "rfModel = RandomForestRegressor()\n",
    "rfModel.fit(cowWithRohnRumination[variables], cowWithRohnRumination[\"Rohdaten Rumination\"])"
   ]
  },
  {
   "cell_type": "code",
   "execution_count": 16,
   "metadata": {},
   "outputs": [
    {
     "ename": "ValueError",
     "evalue": "Input contains NaN, infinity or a value too large for dtype('float32').",
     "output_type": "error",
     "traceback": [
      "\u001b[0;31m---------------------------------------------------------------------------\u001b[0m",
      "\u001b[0;31mValueError\u001b[0m                                Traceback (most recent call last)",
      "\u001b[0;32m<ipython-input-16-37ddafd4f92d>\u001b[0m in \u001b[0;36m<module>\u001b[0;34m\u001b[0m\n\u001b[0;32m----> 1\u001b[0;31m \u001b[0mgeneratedRuminationValues\u001b[0m \u001b[0;34m=\u001b[0m \u001b[0mrfModel\u001b[0m\u001b[0;34m.\u001b[0m\u001b[0mpredict\u001b[0m\u001b[0;34m(\u001b[0m\u001b[0mX\u001b[0m \u001b[0;34m=\u001b[0m \u001b[0mcowWithOutRohnRumination\u001b[0m\u001b[0;34m[\u001b[0m\u001b[0mvariables\u001b[0m\u001b[0;34m]\u001b[0m\u001b[0;34m)\u001b[0m\u001b[0;34m\u001b[0m\u001b[0;34m\u001b[0m\u001b[0m\n\u001b[0m\u001b[1;32m      2\u001b[0m \u001b[0;34m\u001b[0m\u001b[0m\n",
      "\u001b[0;32m~/anaconda3/lib/python3.7/site-packages/sklearn/ensemble/forest.py\u001b[0m in \u001b[0;36mpredict\u001b[0;34m(self, X)\u001b[0m\n\u001b[1;32m    686\u001b[0m         \u001b[0mcheck_is_fitted\u001b[0m\u001b[0;34m(\u001b[0m\u001b[0mself\u001b[0m\u001b[0;34m,\u001b[0m \u001b[0;34m'estimators_'\u001b[0m\u001b[0;34m)\u001b[0m\u001b[0;34m\u001b[0m\u001b[0;34m\u001b[0m\u001b[0m\n\u001b[1;32m    687\u001b[0m         \u001b[0;31m# Check data\u001b[0m\u001b[0;34m\u001b[0m\u001b[0;34m\u001b[0m\u001b[0;34m\u001b[0m\u001b[0m\n\u001b[0;32m--> 688\u001b[0;31m         \u001b[0mX\u001b[0m \u001b[0;34m=\u001b[0m \u001b[0mself\u001b[0m\u001b[0;34m.\u001b[0m\u001b[0m_validate_X_predict\u001b[0m\u001b[0;34m(\u001b[0m\u001b[0mX\u001b[0m\u001b[0;34m)\u001b[0m\u001b[0;34m\u001b[0m\u001b[0;34m\u001b[0m\u001b[0m\n\u001b[0m\u001b[1;32m    689\u001b[0m \u001b[0;34m\u001b[0m\u001b[0m\n\u001b[1;32m    690\u001b[0m         \u001b[0;31m# Assign chunk of trees to jobs\u001b[0m\u001b[0;34m\u001b[0m\u001b[0;34m\u001b[0m\u001b[0;34m\u001b[0m\u001b[0m\n",
      "\u001b[0;32m~/anaconda3/lib/python3.7/site-packages/sklearn/ensemble/forest.py\u001b[0m in \u001b[0;36m_validate_X_predict\u001b[0;34m(self, X)\u001b[0m\n\u001b[1;32m    360\u001b[0m                                  \"call `fit` before exploiting the model.\")\n\u001b[1;32m    361\u001b[0m \u001b[0;34m\u001b[0m\u001b[0m\n\u001b[0;32m--> 362\u001b[0;31m         \u001b[0;32mreturn\u001b[0m \u001b[0mself\u001b[0m\u001b[0;34m.\u001b[0m\u001b[0mestimators_\u001b[0m\u001b[0;34m[\u001b[0m\u001b[0;36m0\u001b[0m\u001b[0;34m]\u001b[0m\u001b[0;34m.\u001b[0m\u001b[0m_validate_X_predict\u001b[0m\u001b[0;34m(\u001b[0m\u001b[0mX\u001b[0m\u001b[0;34m,\u001b[0m \u001b[0mcheck_input\u001b[0m\u001b[0;34m=\u001b[0m\u001b[0;32mTrue\u001b[0m\u001b[0;34m)\u001b[0m\u001b[0;34m\u001b[0m\u001b[0;34m\u001b[0m\u001b[0m\n\u001b[0m\u001b[1;32m    363\u001b[0m \u001b[0;34m\u001b[0m\u001b[0m\n\u001b[1;32m    364\u001b[0m     \u001b[0;34m@\u001b[0m\u001b[0mproperty\u001b[0m\u001b[0;34m\u001b[0m\u001b[0;34m\u001b[0m\u001b[0m\n",
      "\u001b[0;32m~/anaconda3/lib/python3.7/site-packages/sklearn/tree/tree.py\u001b[0m in \u001b[0;36m_validate_X_predict\u001b[0;34m(self, X, check_input)\u001b[0m\n\u001b[1;32m    375\u001b[0m         \u001b[0;34m\"\"\"Validate X whenever one tries to predict, apply, predict_proba\"\"\"\u001b[0m\u001b[0;34m\u001b[0m\u001b[0;34m\u001b[0m\u001b[0m\n\u001b[1;32m    376\u001b[0m         \u001b[0;32mif\u001b[0m \u001b[0mcheck_input\u001b[0m\u001b[0;34m:\u001b[0m\u001b[0;34m\u001b[0m\u001b[0;34m\u001b[0m\u001b[0m\n\u001b[0;32m--> 377\u001b[0;31m             \u001b[0mX\u001b[0m \u001b[0;34m=\u001b[0m \u001b[0mcheck_array\u001b[0m\u001b[0;34m(\u001b[0m\u001b[0mX\u001b[0m\u001b[0;34m,\u001b[0m \u001b[0mdtype\u001b[0m\u001b[0;34m=\u001b[0m\u001b[0mDTYPE\u001b[0m\u001b[0;34m,\u001b[0m \u001b[0maccept_sparse\u001b[0m\u001b[0;34m=\u001b[0m\u001b[0;34m\"csr\"\u001b[0m\u001b[0;34m)\u001b[0m\u001b[0;34m\u001b[0m\u001b[0;34m\u001b[0m\u001b[0m\n\u001b[0m\u001b[1;32m    378\u001b[0m             if issparse(X) and (X.indices.dtype != np.intc or\n\u001b[1;32m    379\u001b[0m                                 X.indptr.dtype != np.intc):\n",
      "\u001b[0;32m~/anaconda3/lib/python3.7/site-packages/sklearn/utils/validation.py\u001b[0m in \u001b[0;36mcheck_array\u001b[0;34m(array, accept_sparse, accept_large_sparse, dtype, order, copy, force_all_finite, ensure_2d, allow_nd, ensure_min_samples, ensure_min_features, warn_on_dtype, estimator)\u001b[0m\n\u001b[1;32m    571\u001b[0m         \u001b[0;32mif\u001b[0m \u001b[0mforce_all_finite\u001b[0m\u001b[0;34m:\u001b[0m\u001b[0;34m\u001b[0m\u001b[0;34m\u001b[0m\u001b[0m\n\u001b[1;32m    572\u001b[0m             _assert_all_finite(array,\n\u001b[0;32m--> 573\u001b[0;31m                                allow_nan=force_all_finite == 'allow-nan')\n\u001b[0m\u001b[1;32m    574\u001b[0m \u001b[0;34m\u001b[0m\u001b[0m\n\u001b[1;32m    575\u001b[0m     \u001b[0mshape_repr\u001b[0m \u001b[0;34m=\u001b[0m \u001b[0m_shape_repr\u001b[0m\u001b[0;34m(\u001b[0m\u001b[0marray\u001b[0m\u001b[0;34m.\u001b[0m\u001b[0mshape\u001b[0m\u001b[0;34m)\u001b[0m\u001b[0;34m\u001b[0m\u001b[0;34m\u001b[0m\u001b[0m\n",
      "\u001b[0;32m~/anaconda3/lib/python3.7/site-packages/sklearn/utils/validation.py\u001b[0m in \u001b[0;36m_assert_all_finite\u001b[0;34m(X, allow_nan)\u001b[0m\n\u001b[1;32m     54\u001b[0m                 not allow_nan and not np.isfinite(X).all()):\n\u001b[1;32m     55\u001b[0m             \u001b[0mtype_err\u001b[0m \u001b[0;34m=\u001b[0m \u001b[0;34m'infinity'\u001b[0m \u001b[0;32mif\u001b[0m \u001b[0mallow_nan\u001b[0m \u001b[0;32melse\u001b[0m \u001b[0;34m'NaN, infinity'\u001b[0m\u001b[0;34m\u001b[0m\u001b[0;34m\u001b[0m\u001b[0m\n\u001b[0;32m---> 56\u001b[0;31m             \u001b[0;32mraise\u001b[0m \u001b[0mValueError\u001b[0m\u001b[0;34m(\u001b[0m\u001b[0mmsg_err\u001b[0m\u001b[0;34m.\u001b[0m\u001b[0mformat\u001b[0m\u001b[0;34m(\u001b[0m\u001b[0mtype_err\u001b[0m\u001b[0;34m,\u001b[0m \u001b[0mX\u001b[0m\u001b[0;34m.\u001b[0m\u001b[0mdtype\u001b[0m\u001b[0;34m)\u001b[0m\u001b[0;34m)\u001b[0m\u001b[0;34m\u001b[0m\u001b[0;34m\u001b[0m\u001b[0m\n\u001b[0m\u001b[1;32m     57\u001b[0m \u001b[0;34m\u001b[0m\u001b[0m\n\u001b[1;32m     58\u001b[0m \u001b[0;34m\u001b[0m\u001b[0m\n",
      "\u001b[0;31mValueError\u001b[0m: Input contains NaN, infinity or a value too large for dtype('float32')."
     ]
    }
   ],
   "source": [
    "generatedRuminationValues = rfModel.predict(X = cowWithOutRohnRumination[variables])\n",
    "\n"
   ]
  },
  {
   "cell_type": "code",
   "execution_count": null,
   "metadata": {},
   "outputs": [],
   "source": []
  },
  {
   "cell_type": "code",
   "execution_count": null,
   "metadata": {},
   "outputs": [],
   "source": [
    "# THE ABOVE IMPLEMENTATION REFERS TO THE ESTIMATION OF THE MISSING VALUES IN GIVEN DATA SET USING RANDOM FOREST."
   ]
  },
  {
   "cell_type": "code",
   "execution_count": null,
   "metadata": {},
   "outputs": [],
   "source": []
  },
  {
   "cell_type": "code",
   "execution_count": 91,
   "metadata": {},
   "outputs": [],
   "source": [
    "#Here using the below statement the dataframes can be grouped by class."
   ]
  },
  {
   "cell_type": "code",
   "execution_count": 92,
   "metadata": {},
   "outputs": [],
   "source": [
    "df0 = df[df['Difficulty']==0]"
   ]
  },
  {
   "cell_type": "code",
   "execution_count": 93,
   "metadata": {},
   "outputs": [
    {
     "data": {
      "text/plain": [
       "<bound method NDFrame.head of     Difficulty  Cow Number  Stomach Activity  Stomach Temp.  \\\n",
       "0            0           4            13.160         39.270   \n",
       "1            0         986            13.000         39.660   \n",
       "2            0          58            12.300         39.450   \n",
       "3            0         915             7.130         39.530   \n",
       "4            0         135             4.040         39.260   \n",
       "5            0         930             9.660         39.290   \n",
       "6            0         999            16.570         39.710   \n",
       "7            0         784             9.850         39.230   \n",
       "8            0         138            13.310         39.720   \n",
       "9            0         141            15.520         39.640   \n",
       "22           0         999            11.454         39.476   \n",
       "23           0         162            11.454         39.476   \n",
       "24           0         930            11.454         39.476   \n",
       "25           0         163            11.454         39.476   \n",
       "26           0          10            11.454         39.476   \n",
       "27           0          22            11.454         39.476   \n",
       "28           0          54            11.454         39.476   \n",
       "29           0         135            11.454         39.476   \n",
       "30           0          16            11.454         39.476   \n",
       "31           0         161            11.454         39.476   \n",
       "32           0          89            11.454         39.476   \n",
       "33           0         845            11.454         39.476   \n",
       "\n",
       "    Lactation(no. of births)  Rumination avg  Lactation Days      Rasse  \n",
       "0                          2       42.418233             368  Fleckvieh  \n",
       "1                          2       42.418233             363  Fleckvieh  \n",
       "2                          1       42.418233             403  Fleckvieh  \n",
       "3                          3       42.418233             374  Braunvieh  \n",
       "4                          0       42.418233               0  Braunvieh  \n",
       "5                          3       42.418233             340  Fleckvieh  \n",
       "6                          2       42.418233             359  Braunvieh  \n",
       "7                          5       42.418233             345  Fleckvieh  \n",
       "8                          0       42.418233               0  Fleckvieh  \n",
       "9                          0       42.418233               0  Fleckvieh  \n",
       "22                         2       29.500000             359  Braunvieh  \n",
       "23                         0      145.000000               0  Braunvieh  \n",
       "24                         3       21.000000             340  Fleckvieh  \n",
       "25                         0       45.000000               0  Fleckvieh  \n",
       "26                         2       33.000000             284  Fleckvieh  \n",
       "27                         2       48.018800             222  Fleckvieh  \n",
       "28                         1       31.000000             408  Fleckvieh  \n",
       "29                         0       29.500000               0  Braunvieh  \n",
       "30                         2       27.500000             258  Fleckvieh  \n",
       "31                         0       34.500000               0  Fleckvieh  \n",
       "32                         1       26.500000             208  Fleckvieh  \n",
       "33                         4       38.500000             401  Fleckvieh  >"
      ]
     },
     "execution_count": 93,
     "metadata": {},
     "output_type": "execute_result"
    }
   ],
   "source": [
    "df0.head"
   ]
  },
  {
   "cell_type": "code",
   "execution_count": 94,
   "metadata": {},
   "outputs": [],
   "source": [
    "#using the below train_split_function the data can splitted into train and test"
   ]
  },
  {
   "cell_type": "code",
   "execution_count": 95,
   "metadata": {},
   "outputs": [],
   "source": [
    "df0_train, df0_test = model_selection.train_test_split(df0,train_size=0.75,test_size=0.25, random_state=101)"
   ]
  },
  {
   "cell_type": "code",
   "execution_count": 96,
   "metadata": {},
   "outputs": [
    {
     "data": {
      "text/plain": [
       "<bound method NDFrame.head of     Difficulty  Cow Number  Stomach Activity  Stomach Temp.  \\\n",
       "3            0         915             7.130         39.530   \n",
       "1            0         986            13.000         39.660   \n",
       "24           0         930            11.454         39.476   \n",
       "30           0          16            11.454         39.476   \n",
       "0            0           4            13.160         39.270   \n",
       "5            0         930             9.660         39.290   \n",
       "26           0          10            11.454         39.476   \n",
       "4            0         135             4.040         39.260   \n",
       "8            0         138            13.310         39.720   \n",
       "25           0         163            11.454         39.476   \n",
       "9            0         141            15.520         39.640   \n",
       "27           0          22            11.454         39.476   \n",
       "33           0         845            11.454         39.476   \n",
       "6            0         999            16.570         39.710   \n",
       "29           0         135            11.454         39.476   \n",
       "23           0         162            11.454         39.476   \n",
       "\n",
       "    Lactation(no. of births)  Rumination avg  Lactation Days      Rasse  \n",
       "3                          3       42.418233             374  Braunvieh  \n",
       "1                          2       42.418233             363  Fleckvieh  \n",
       "24                         3       21.000000             340  Fleckvieh  \n",
       "30                         2       27.500000             258  Fleckvieh  \n",
       "0                          2       42.418233             368  Fleckvieh  \n",
       "5                          3       42.418233             340  Fleckvieh  \n",
       "26                         2       33.000000             284  Fleckvieh  \n",
       "4                          0       42.418233               0  Braunvieh  \n",
       "8                          0       42.418233               0  Fleckvieh  \n",
       "25                         0       45.000000               0  Fleckvieh  \n",
       "9                          0       42.418233               0  Fleckvieh  \n",
       "27                         2       48.018800             222  Fleckvieh  \n",
       "33                         4       38.500000             401  Fleckvieh  \n",
       "6                          2       42.418233             359  Braunvieh  \n",
       "29                         0       29.500000               0  Braunvieh  \n",
       "23                         0      145.000000               0  Braunvieh  >"
      ]
     },
     "execution_count": 96,
     "metadata": {},
     "output_type": "execute_result"
    }
   ],
   "source": [
    "df0_train.head"
   ]
  },
  {
   "cell_type": "code",
   "execution_count": 97,
   "metadata": {},
   "outputs": [
    {
     "data": {
      "text/plain": [
       "<bound method NDFrame.head of     Difficulty  Cow Number  Stomach Activity  Stomach Temp.  \\\n",
       "32           0          89            11.454         39.476   \n",
       "28           0          54            11.454         39.476   \n",
       "7            0         784             9.850         39.230   \n",
       "31           0         161            11.454         39.476   \n",
       "22           0         999            11.454         39.476   \n",
       "2            0          58            12.300         39.450   \n",
       "\n",
       "    Lactation(no. of births)  Rumination avg  Lactation Days      Rasse  \n",
       "32                         1       26.500000             208  Fleckvieh  \n",
       "28                         1       31.000000             408  Fleckvieh  \n",
       "7                          5       42.418233             345  Fleckvieh  \n",
       "31                         0       34.500000               0  Fleckvieh  \n",
       "22                         2       29.500000             359  Braunvieh  \n",
       "2                          1       42.418233             403  Fleckvieh  >"
      ]
     },
     "execution_count": 97,
     "metadata": {},
     "output_type": "execute_result"
    }
   ],
   "source": [
    "df0_test.head"
   ]
  },
  {
   "cell_type": "code",
   "execution_count": 98,
   "metadata": {},
   "outputs": [],
   "source": [
    "df1 = df[df['Difficulty']==1]"
   ]
  },
  {
   "cell_type": "code",
   "execution_count": 99,
   "metadata": {},
   "outputs": [
    {
     "data": {
      "text/plain": [
       "<bound method NDFrame.head of     Difficulty  Cow Number  Stomach Activity  Stomach Temp.  \\\n",
       "10           1         846            9.0900       39.47000   \n",
       "11           1          69            9.8700       39.75000   \n",
       "12           1         937           14.5100       39.77000   \n",
       "13           1           5           15.2900       39.75000   \n",
       "14           1         139           14.0500       39.32000   \n",
       "15           1         144           13.0000       39.57000   \n",
       "16           1         924           16.2700       39.69000   \n",
       "17           1         143           14.8200       39.99000   \n",
       "34           1         937           13.3625       39.66375   \n",
       "35           1           5           13.3625       39.66375   \n",
       "36           1         166           13.3625       39.66375   \n",
       "\n",
       "    Lactation(no. of births)  Rumination avg  Lactation Days      Rasse  \n",
       "10                         4       45.979933             420    Rotbunt  \n",
       "11                         1       45.979933             340    Rotbunt  \n",
       "12                         3       45.979933             338  Fleckvieh  \n",
       "13                         2       45.979933             341  Fleckvieh  \n",
       "14                         0       45.979933               0  Fleckvieh  \n",
       "15                         0       45.979933               0  Braunvieh  \n",
       "16                         3       45.979933             345  Braunvieh  \n",
       "17                         0       45.979933               0  Braunvieh  \n",
       "34                         3       32.142800             338  Fleckvieh  \n",
       "35                         2       47.797000             341  Fleckvieh  \n",
       "36                         0       58.000000               0  Braunvieh  >"
      ]
     },
     "execution_count": 99,
     "metadata": {},
     "output_type": "execute_result"
    }
   ],
   "source": [
    "df1.head"
   ]
  },
  {
   "cell_type": "code",
   "execution_count": 100,
   "metadata": {},
   "outputs": [],
   "source": [
    "df2 = df[df['Difficulty']==2]"
   ]
  },
  {
   "cell_type": "code",
   "execution_count": 101,
   "metadata": {},
   "outputs": [
    {
     "data": {
      "text/plain": [
       "<bound method NDFrame.head of     Difficulty  Cow Number  Stomach Activity  Stomach Temp.  \\\n",
       "18           2          72         13.540000          39.77   \n",
       "19           2         888         17.800000          39.53   \n",
       "20           2         874          8.770000          39.32   \n",
       "21           2         155         10.160000          38.98   \n",
       "37           2          72         12.885375          39.40   \n",
       "\n",
       "    Lactation(no. of births)  Rumination avg  Lactation Days      Rasse  \n",
       "18                         1         44.5531             319  Fleckvieh  \n",
       "19                         4         44.5531             319  Fleckvieh  \n",
       "20                         4         44.5531             322  Fleckvieh  \n",
       "21                         0         44.5531               0  Fleckvieh  \n",
       "37                         1         44.5531             319  Fleckvieh  >"
      ]
     },
     "execution_count": 101,
     "metadata": {},
     "output_type": "execute_result"
    }
   ],
   "source": [
    "df2.head"
   ]
  },
  {
   "cell_type": "code",
   "execution_count": 102,
   "metadata": {},
   "outputs": [],
   "source": [
    "#Stratified Kfold on the parent dataframe, In the below statement the Stratfied Kfold function is called K number of splits"
   ]
  },
  {
   "cell_type": "code",
   "execution_count": 127,
   "metadata": {},
   "outputs": [],
   "source": [
    "skf = StratifiedKFold(n_splits=2)"
   ]
  },
  {
   "cell_type": "code",
   "execution_count": 128,
   "metadata": {},
   "outputs": [
    {
     "data": {
      "text/plain": [
       "2"
      ]
     },
     "execution_count": 128,
     "metadata": {},
     "output_type": "execute_result"
    }
   ],
   "source": [
    "skf.get_n_splits(df)"
   ]
  },
  {
   "cell_type": "code",
   "execution_count": 129,
   "metadata": {},
   "outputs": [
    {
     "data": {
      "text/plain": [
       "StratifiedKFold(n_splits=2, random_state=None, shuffle=False)"
      ]
     },
     "execution_count": 129,
     "metadata": {},
     "output_type": "execute_result"
    }
   ],
   "source": [
    "StratifiedKFold(n_splits=2, random_state=None, shuffle=False)"
   ]
  },
  {
   "cell_type": "code",
   "execution_count": 130,
   "metadata": {},
   "outputs": [],
   "source": [
    "#here the y represnts the target values, where as X represents all the remaining features of the data"
   ]
  },
  {
   "cell_type": "code",
   "execution_count": 131,
   "metadata": {},
   "outputs": [
    {
     "ename": "KeyError",
     "evalue": "'Difficulty'",
     "output_type": "error",
     "traceback": [
      "\u001b[0;31m---------------------------------------------------------------------------\u001b[0m",
      "\u001b[0;31mKeyError\u001b[0m                                  Traceback (most recent call last)",
      "\u001b[0;32m~/anaconda3/lib/python3.7/site-packages/pandas/core/indexes/base.py\u001b[0m in \u001b[0;36mget_loc\u001b[0;34m(self, key, method, tolerance)\u001b[0m\n\u001b[1;32m   2656\u001b[0m             \u001b[0;32mtry\u001b[0m\u001b[0;34m:\u001b[0m\u001b[0;34m\u001b[0m\u001b[0;34m\u001b[0m\u001b[0m\n\u001b[0;32m-> 2657\u001b[0;31m                 \u001b[0;32mreturn\u001b[0m \u001b[0mself\u001b[0m\u001b[0;34m.\u001b[0m\u001b[0m_engine\u001b[0m\u001b[0;34m.\u001b[0m\u001b[0mget_loc\u001b[0m\u001b[0;34m(\u001b[0m\u001b[0mkey\u001b[0m\u001b[0;34m)\u001b[0m\u001b[0;34m\u001b[0m\u001b[0;34m\u001b[0m\u001b[0m\n\u001b[0m\u001b[1;32m   2658\u001b[0m             \u001b[0;32mexcept\u001b[0m \u001b[0mKeyError\u001b[0m\u001b[0;34m:\u001b[0m\u001b[0;34m\u001b[0m\u001b[0;34m\u001b[0m\u001b[0m\n",
      "\u001b[0;32mpandas/_libs/index.pyx\u001b[0m in \u001b[0;36mpandas._libs.index.IndexEngine.get_loc\u001b[0;34m()\u001b[0m\n",
      "\u001b[0;32mpandas/_libs/index.pyx\u001b[0m in \u001b[0;36mpandas._libs.index.IndexEngine.get_loc\u001b[0;34m()\u001b[0m\n",
      "\u001b[0;32mpandas/_libs/hashtable_class_helper.pxi\u001b[0m in \u001b[0;36mpandas._libs.hashtable.PyObjectHashTable.get_item\u001b[0;34m()\u001b[0m\n",
      "\u001b[0;32mpandas/_libs/hashtable_class_helper.pxi\u001b[0m in \u001b[0;36mpandas._libs.hashtable.PyObjectHashTable.get_item\u001b[0;34m()\u001b[0m\n",
      "\u001b[0;31mKeyError\u001b[0m: 'Difficulty'",
      "\nDuring handling of the above exception, another exception occurred:\n",
      "\u001b[0;31mKeyError\u001b[0m                                  Traceback (most recent call last)",
      "\u001b[0;32m<ipython-input-131-f74bc712da95>\u001b[0m in \u001b[0;36m<module>\u001b[0;34m\u001b[0m\n\u001b[0;32m----> 1\u001b[0;31m \u001b[0my\u001b[0m\u001b[0;34m=\u001b[0m\u001b[0mdf\u001b[0m\u001b[0;34m[\u001b[0m\u001b[0;34m'Difficulty'\u001b[0m\u001b[0;34m]\u001b[0m\u001b[0;34m\u001b[0m\u001b[0;34m\u001b[0m\u001b[0m\n\u001b[0m\u001b[1;32m      2\u001b[0m \u001b[0;32mdel\u001b[0m \u001b[0mdf\u001b[0m\u001b[0;34m[\u001b[0m\u001b[0;34m'Difficulty'\u001b[0m\u001b[0;34m]\u001b[0m\u001b[0;34m\u001b[0m\u001b[0;34m\u001b[0m\u001b[0m\n\u001b[1;32m      3\u001b[0m \u001b[0mX\u001b[0m\u001b[0;34m=\u001b[0m\u001b[0mdf\u001b[0m\u001b[0;34m\u001b[0m\u001b[0;34m\u001b[0m\u001b[0m\n",
      "\u001b[0;32m~/anaconda3/lib/python3.7/site-packages/pandas/core/frame.py\u001b[0m in \u001b[0;36m__getitem__\u001b[0;34m(self, key)\u001b[0m\n\u001b[1;32m   2925\u001b[0m             \u001b[0;32mif\u001b[0m \u001b[0mself\u001b[0m\u001b[0;34m.\u001b[0m\u001b[0mcolumns\u001b[0m\u001b[0;34m.\u001b[0m\u001b[0mnlevels\u001b[0m \u001b[0;34m>\u001b[0m \u001b[0;36m1\u001b[0m\u001b[0;34m:\u001b[0m\u001b[0;34m\u001b[0m\u001b[0;34m\u001b[0m\u001b[0m\n\u001b[1;32m   2926\u001b[0m                 \u001b[0;32mreturn\u001b[0m \u001b[0mself\u001b[0m\u001b[0;34m.\u001b[0m\u001b[0m_getitem_multilevel\u001b[0m\u001b[0;34m(\u001b[0m\u001b[0mkey\u001b[0m\u001b[0;34m)\u001b[0m\u001b[0;34m\u001b[0m\u001b[0;34m\u001b[0m\u001b[0m\n\u001b[0;32m-> 2927\u001b[0;31m             \u001b[0mindexer\u001b[0m \u001b[0;34m=\u001b[0m \u001b[0mself\u001b[0m\u001b[0;34m.\u001b[0m\u001b[0mcolumns\u001b[0m\u001b[0;34m.\u001b[0m\u001b[0mget_loc\u001b[0m\u001b[0;34m(\u001b[0m\u001b[0mkey\u001b[0m\u001b[0;34m)\u001b[0m\u001b[0;34m\u001b[0m\u001b[0;34m\u001b[0m\u001b[0m\n\u001b[0m\u001b[1;32m   2928\u001b[0m             \u001b[0;32mif\u001b[0m \u001b[0mis_integer\u001b[0m\u001b[0;34m(\u001b[0m\u001b[0mindexer\u001b[0m\u001b[0;34m)\u001b[0m\u001b[0;34m:\u001b[0m\u001b[0;34m\u001b[0m\u001b[0;34m\u001b[0m\u001b[0m\n\u001b[1;32m   2929\u001b[0m                 \u001b[0mindexer\u001b[0m \u001b[0;34m=\u001b[0m \u001b[0;34m[\u001b[0m\u001b[0mindexer\u001b[0m\u001b[0;34m]\u001b[0m\u001b[0;34m\u001b[0m\u001b[0;34m\u001b[0m\u001b[0m\n",
      "\u001b[0;32m~/anaconda3/lib/python3.7/site-packages/pandas/core/indexes/base.py\u001b[0m in \u001b[0;36mget_loc\u001b[0;34m(self, key, method, tolerance)\u001b[0m\n\u001b[1;32m   2657\u001b[0m                 \u001b[0;32mreturn\u001b[0m \u001b[0mself\u001b[0m\u001b[0;34m.\u001b[0m\u001b[0m_engine\u001b[0m\u001b[0;34m.\u001b[0m\u001b[0mget_loc\u001b[0m\u001b[0;34m(\u001b[0m\u001b[0mkey\u001b[0m\u001b[0;34m)\u001b[0m\u001b[0;34m\u001b[0m\u001b[0;34m\u001b[0m\u001b[0m\n\u001b[1;32m   2658\u001b[0m             \u001b[0;32mexcept\u001b[0m \u001b[0mKeyError\u001b[0m\u001b[0;34m:\u001b[0m\u001b[0;34m\u001b[0m\u001b[0;34m\u001b[0m\u001b[0m\n\u001b[0;32m-> 2659\u001b[0;31m                 \u001b[0;32mreturn\u001b[0m \u001b[0mself\u001b[0m\u001b[0;34m.\u001b[0m\u001b[0m_engine\u001b[0m\u001b[0;34m.\u001b[0m\u001b[0mget_loc\u001b[0m\u001b[0;34m(\u001b[0m\u001b[0mself\u001b[0m\u001b[0;34m.\u001b[0m\u001b[0m_maybe_cast_indexer\u001b[0m\u001b[0;34m(\u001b[0m\u001b[0mkey\u001b[0m\u001b[0;34m)\u001b[0m\u001b[0;34m)\u001b[0m\u001b[0;34m\u001b[0m\u001b[0;34m\u001b[0m\u001b[0m\n\u001b[0m\u001b[1;32m   2660\u001b[0m         \u001b[0mindexer\u001b[0m \u001b[0;34m=\u001b[0m \u001b[0mself\u001b[0m\u001b[0;34m.\u001b[0m\u001b[0mget_indexer\u001b[0m\u001b[0;34m(\u001b[0m\u001b[0;34m[\u001b[0m\u001b[0mkey\u001b[0m\u001b[0;34m]\u001b[0m\u001b[0;34m,\u001b[0m \u001b[0mmethod\u001b[0m\u001b[0;34m=\u001b[0m\u001b[0mmethod\u001b[0m\u001b[0;34m,\u001b[0m \u001b[0mtolerance\u001b[0m\u001b[0;34m=\u001b[0m\u001b[0mtolerance\u001b[0m\u001b[0;34m)\u001b[0m\u001b[0;34m\u001b[0m\u001b[0;34m\u001b[0m\u001b[0m\n\u001b[1;32m   2661\u001b[0m         \u001b[0;32mif\u001b[0m \u001b[0mindexer\u001b[0m\u001b[0;34m.\u001b[0m\u001b[0mndim\u001b[0m \u001b[0;34m>\u001b[0m \u001b[0;36m1\u001b[0m \u001b[0;32mor\u001b[0m \u001b[0mindexer\u001b[0m\u001b[0;34m.\u001b[0m\u001b[0msize\u001b[0m \u001b[0;34m>\u001b[0m \u001b[0;36m1\u001b[0m\u001b[0;34m:\u001b[0m\u001b[0;34m\u001b[0m\u001b[0;34m\u001b[0m\u001b[0m\n",
      "\u001b[0;32mpandas/_libs/index.pyx\u001b[0m in \u001b[0;36mpandas._libs.index.IndexEngine.get_loc\u001b[0;34m()\u001b[0m\n",
      "\u001b[0;32mpandas/_libs/index.pyx\u001b[0m in \u001b[0;36mpandas._libs.index.IndexEngine.get_loc\u001b[0;34m()\u001b[0m\n",
      "\u001b[0;32mpandas/_libs/hashtable_class_helper.pxi\u001b[0m in \u001b[0;36mpandas._libs.hashtable.PyObjectHashTable.get_item\u001b[0;34m()\u001b[0m\n",
      "\u001b[0;32mpandas/_libs/hashtable_class_helper.pxi\u001b[0m in \u001b[0;36mpandas._libs.hashtable.PyObjectHashTable.get_item\u001b[0;34m()\u001b[0m\n",
      "\u001b[0;31mKeyError\u001b[0m: 'Difficulty'"
     ]
    }
   ],
   "source": [
    "y=df['Difficulty']\n",
    "del df['Difficulty']\n",
    "X=df"
   ]
  },
  {
   "cell_type": "code",
   "execution_count": 132,
   "metadata": {
    "scrolled": true
   },
   "outputs": [
    {
     "name": "stdout",
     "output_type": "stream",
     "text": [
      "<class 'pandas.core.frame.DataFrame'>\n",
      "RangeIndex: 38 entries, 0 to 37\n",
      "Data columns (total 7 columns):\n",
      "Cow Number                  38 non-null int64\n",
      "Stomach Activity            38 non-null float64\n",
      "Stomach Temp.               38 non-null float64\n",
      "Lactation(no. of births)    38 non-null int64\n",
      "Rumination avg              38 non-null float64\n",
      "Lactation Days              38 non-null int64\n",
      "Rasse                       38 non-null object\n",
      "dtypes: float64(3), int64(3), object(1)\n",
      "memory usage: 2.2+ KB\n"
     ]
    }
   ],
   "source": [
    "X.info()"
   ]
  },
  {
   "cell_type": "code",
   "execution_count": 133,
   "metadata": {},
   "outputs": [
    {
     "name": "stdout",
     "output_type": "stream",
     "text": [
      "TRAIN: [16 17 21 23 24 25 26 27 28 29 30 31 32 33 34 35 36 37] TEST: [ 0  1  2  3  4  5  6  7  8  9 10 11 12 13 14 15 18 19 20 22]\n",
      "TRAIN: [ 0  1  2  3  4  5  6  7  8  9 10 11 12 13 14 15 18 19 20 22] TEST: [16 17 21 23 24 25 26 27 28 29 30 31 32 33 34 35 36 37]\n"
     ]
    }
   ],
   "source": [
    "X_train = {}\n",
    "Y_train = {}\n",
    "#i=0\n",
    "for train_index, test_index in skf.split(X,y):\n",
    "    print(\"TRAIN:\", train_index, \"TEST:\", test_index)\n",
    "   # X_train[i], X_test[i] = X[train_index], X[test_index]\n",
    "    #y_train[i], y_test[i] = y[train_index], y[test_index]\n",
    "   # i+=1"
   ]
  },
  {
   "cell_type": "code",
   "execution_count": null,
   "metadata": {},
   "outputs": [],
   "source": [
    "  TRAIN: [16 17 21 23 24 25 26 27 28 29 30 31 32 33 34 35 36 37] TEST: [ 0  1  2  3  4  5  6  7  8  9 10 11 12 13 14 15 18 19 20 22]\n",
    "TRAIN: [ 0  1  2  3  4  5  6  7  8  9 10 11 12 13 14 15 18 19 20 22] TEST: [16 17 21 23 24 25 26 27 28 29 30 31 32 33 34 35 36 37]"
   ]
  },
  {
   "cell_type": "code",
   "execution_count": null,
   "metadata": {},
   "outputs": [],
   "source": []
  }
 ],
 "metadata": {
  "kernelspec": {
   "display_name": "Python 3",
   "language": "python",
   "name": "python3"
  },
  "language_info": {
   "codemirror_mode": {
    "name": "ipython",
    "version": 3
   },
   "file_extension": ".py",
   "mimetype": "text/x-python",
   "name": "python",
   "nbconvert_exporter": "python",
   "pygments_lexer": "ipython3",
   "version": "3.6.9"
  }
 },
 "nbformat": 4,
 "nbformat_minor": 2
}
